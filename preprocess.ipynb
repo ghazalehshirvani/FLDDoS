{
 "cells": [
  {
   "cell_type": "code",
   "execution_count": 1,
   "metadata": {},
   "outputs": [],
   "source": [
    "import numpy as np \n",
    "import pandas as pd"
   ]
  },
  {
   "cell_type": "markdown",
   "metadata": {},
   "source": [
    "Preprocess Data"
   ]
  },
  {
   "cell_type": "markdown",
   "metadata": {},
   "source": [
    "Import Benign Traffic"
   ]
  },
  {
   "cell_type": "code",
   "execution_count": 2,
   "metadata": {},
   "outputs": [],
   "source": [
    "benign = pd.read_csv('./dataset/Device1/benign_traffic.csv') \n"
   ]
  },
  {
   "cell_type": "markdown",
   "metadata": {},
   "source": [
    "Import Mirai Botnet Traffic"
   ]
  },
  {
   "cell_type": "code",
   "execution_count": 3,
   "metadata": {},
   "outputs": [],
   "source": [
    "mirai_ack = pd.read_csv('./dataset/Device1/mirai/ack.csv') \n",
    "mirai_scan = pd.read_csv('./dataset/Device1/mirai/scan.csv') \n",
    "mirai_syn = pd.read_csv('./dataset/Device1/mirai/syn.csv') \n",
    "mirai_udp = pd.read_csv('./dataset/Device1/mirai/udp.csv') \n",
    "mirai_udpplain = pd.read_csv('./dataset/Device1/mirai/udpplain.csv') \n"
   ]
  },
  {
   "cell_type": "markdown",
   "metadata": {},
   "source": [
    "Import Gafgyt Botnet Traffic"
   ]
  },
  {
   "cell_type": "code",
   "execution_count": 4,
   "metadata": {},
   "outputs": [],
   "source": [
    "gafgyt_combo = pd.read_csv('./dataset/Device1/gafgyt/combo.csv') \n",
    "gafgyt_scan = pd.read_csv('./dataset/Device1/gafgyt/scan.csv') \n",
    "gafgyt_tcp = pd.read_csv('./dataset/Device1/gafgyt/tcp.csv') \n",
    "gafgyt_udp = pd.read_csv('./dataset/Device1/gafgyt/udp.csv') \n",
    "gafgyt_junk = pd.read_csv('./dataset/Device1/gafgyt/junk.csv') \n"
   ]
  },
  {
   "cell_type": "code",
   "execution_count": 7,
   "metadata": {},
   "outputs": [
    {
     "name": "stdout",
     "output_type": "stream",
     "text": [
      "True\n",
      "True\n"
     ]
    }
   ],
   "source": [
    "# Check if gafgyt_combo has the same columns as benign\n",
    "print(gafgyt_combo.columns.equals(benign.columns))\n",
    "\n",
    "# Check if gafgyt_combo has the same columns as mirai_ack\n",
    "print(gafgyt_combo.columns.equals(mirai_ack.columns))"
   ]
  },
  {
   "cell_type": "code",
   "execution_count": 11,
   "metadata": {},
   "outputs": [],
   "source": [
    "# Add a new column 'type' to each DataFrame\n",
    "benign['type'] = 'benign'\n",
    "mirai_ack['type'] = 'mirai_ack'\n",
    "mirai_scan['type'] = 'mirai_scan'\n",
    "mirai_syn['type'] = 'mirai_syn'\n",
    "mirai_udp['type'] = 'mirai_udp'\n",
    "mirai_udpplain['type'] = 'mirai_udpplain'\n",
    "gafgyt_combo['type'] = 'gafgyt_combo'\n",
    "gafgyt_scan['type'] = 'gafgyt_scan'\n",
    "gafgyt_tcp['type'] = 'gafgyt_tcp'\n",
    "gafgyt_udp['type'] = 'gafgyt_udp'\n",
    "gafgyt_junk['type'] = 'gafyt_junk'"
   ]
  },
  {
   "cell_type": "code",
   "execution_count": 8,
   "metadata": {},
   "outputs": [],
   "source": [
    "# Concatenate the DataFrames\n",
    "concatenated_df = pd.concat([benign, mirai_ack, mirai_scan, mirai_syn, mirai_udp,\n",
    "                             mirai_udpplain, gafgyt_combo, gafgyt_scan, gafgyt_tcp, gafgyt_udp,\n",
    "                             gafgyt_junk])\n",
    "\n",
    "# Reset the index of the concatenated DataFrame\n",
    "concatenated_df.reset_index(drop=True, inplace=True)"
   ]
  },
  {
   "cell_type": "code",
   "execution_count": 9,
   "metadata": {},
   "outputs": [
    {
     "data": {
      "text/html": [
       "<div>\n",
       "<style scoped>\n",
       "    .dataframe tbody tr th:only-of-type {\n",
       "        vertical-align: middle;\n",
       "    }\n",
       "\n",
       "    .dataframe tbody tr th {\n",
       "        vertical-align: top;\n",
       "    }\n",
       "\n",
       "    .dataframe thead th {\n",
       "        text-align: right;\n",
       "    }\n",
       "</style>\n",
       "<table border=\"1\" class=\"dataframe\">\n",
       "  <thead>\n",
       "    <tr style=\"text-align: right;\">\n",
       "      <th></th>\n",
       "      <th>MI_dir_L5_weight</th>\n",
       "      <th>MI_dir_L5_mean</th>\n",
       "      <th>MI_dir_L5_variance</th>\n",
       "      <th>MI_dir_L3_weight</th>\n",
       "      <th>MI_dir_L3_mean</th>\n",
       "      <th>MI_dir_L3_variance</th>\n",
       "      <th>MI_dir_L1_weight</th>\n",
       "      <th>MI_dir_L1_mean</th>\n",
       "      <th>MI_dir_L1_variance</th>\n",
       "      <th>MI_dir_L0.1_weight</th>\n",
       "      <th>...</th>\n",
       "      <th>HpHp_L0.1_radius</th>\n",
       "      <th>HpHp_L0.1_covariance</th>\n",
       "      <th>HpHp_L0.1_pcc</th>\n",
       "      <th>HpHp_L0.01_weight</th>\n",
       "      <th>HpHp_L0.01_mean</th>\n",
       "      <th>HpHp_L0.01_std</th>\n",
       "      <th>HpHp_L0.01_magnitude</th>\n",
       "      <th>HpHp_L0.01_radius</th>\n",
       "      <th>HpHp_L0.01_covariance</th>\n",
       "      <th>HpHp_L0.01_pcc</th>\n",
       "    </tr>\n",
       "  </thead>\n",
       "  <tbody>\n",
       "    <tr>\n",
       "      <th>0</th>\n",
       "      <td>1.000000</td>\n",
       "      <td>60.000000</td>\n",
       "      <td>0.000000</td>\n",
       "      <td>1.000000</td>\n",
       "      <td>60.000000</td>\n",
       "      <td>0.000000</td>\n",
       "      <td>1.000000</td>\n",
       "      <td>60.000000</td>\n",
       "      <td>0.000000</td>\n",
       "      <td>1.000000</td>\n",
       "      <td>...</td>\n",
       "      <td>0.000000</td>\n",
       "      <td>0.0</td>\n",
       "      <td>0.0</td>\n",
       "      <td>1.000000</td>\n",
       "      <td>60.000000</td>\n",
       "      <td>0.000000</td>\n",
       "      <td>60.000000</td>\n",
       "      <td>0.000000</td>\n",
       "      <td>0.0</td>\n",
       "      <td>0.0</td>\n",
       "    </tr>\n",
       "    <tr>\n",
       "      <th>1</th>\n",
       "      <td>1.000000</td>\n",
       "      <td>354.000000</td>\n",
       "      <td>0.000000</td>\n",
       "      <td>1.000000</td>\n",
       "      <td>354.000000</td>\n",
       "      <td>0.000000</td>\n",
       "      <td>1.000000</td>\n",
       "      <td>354.000000</td>\n",
       "      <td>0.000000</td>\n",
       "      <td>1.000000</td>\n",
       "      <td>...</td>\n",
       "      <td>34.095047</td>\n",
       "      <td>0.0</td>\n",
       "      <td>0.0</td>\n",
       "      <td>5.319895</td>\n",
       "      <td>344.262695</td>\n",
       "      <td>4.710446</td>\n",
       "      <td>344.262695</td>\n",
       "      <td>22.188299</td>\n",
       "      <td>0.0</td>\n",
       "      <td>0.0</td>\n",
       "    </tr>\n",
       "    <tr>\n",
       "      <th>2</th>\n",
       "      <td>1.857879</td>\n",
       "      <td>360.458980</td>\n",
       "      <td>35.789338</td>\n",
       "      <td>1.912127</td>\n",
       "      <td>360.275733</td>\n",
       "      <td>35.923972</td>\n",
       "      <td>1.969807</td>\n",
       "      <td>360.091968</td>\n",
       "      <td>35.991542</td>\n",
       "      <td>1.996939</td>\n",
       "      <td>...</td>\n",
       "      <td>100.081513</td>\n",
       "      <td>0.0</td>\n",
       "      <td>0.0</td>\n",
       "      <td>6.318264</td>\n",
       "      <td>347.703087</td>\n",
       "      <td>9.034660</td>\n",
       "      <td>347.703087</td>\n",
       "      <td>81.625077</td>\n",
       "      <td>0.0</td>\n",
       "      <td>0.0</td>\n",
       "    </tr>\n",
       "    <tr>\n",
       "      <th>3</th>\n",
       "      <td>1.000000</td>\n",
       "      <td>337.000000</td>\n",
       "      <td>0.000000</td>\n",
       "      <td>1.000000</td>\n",
       "      <td>337.000000</td>\n",
       "      <td>0.000000</td>\n",
       "      <td>1.000000</td>\n",
       "      <td>337.000000</td>\n",
       "      <td>0.000000</td>\n",
       "      <td>1.000000</td>\n",
       "      <td>...</td>\n",
       "      <td>0.000000</td>\n",
       "      <td>0.0</td>\n",
       "      <td>0.0</td>\n",
       "      <td>1.000000</td>\n",
       "      <td>337.000000</td>\n",
       "      <td>0.000000</td>\n",
       "      <td>337.000000</td>\n",
       "      <td>0.000000</td>\n",
       "      <td>0.0</td>\n",
       "      <td>0.0</td>\n",
       "    </tr>\n",
       "    <tr>\n",
       "      <th>4</th>\n",
       "      <td>1.680223</td>\n",
       "      <td>172.140917</td>\n",
       "      <td>18487.448750</td>\n",
       "      <td>1.793580</td>\n",
       "      <td>182.560279</td>\n",
       "      <td>18928.175300</td>\n",
       "      <td>1.925828</td>\n",
       "      <td>193.165753</td>\n",
       "      <td>19153.795810</td>\n",
       "      <td>1.992323</td>\n",
       "      <td>...</td>\n",
       "      <td>0.000000</td>\n",
       "      <td>0.0</td>\n",
       "      <td>0.0</td>\n",
       "      <td>1.000000</td>\n",
       "      <td>60.000000</td>\n",
       "      <td>0.000000</td>\n",
       "      <td>60.000000</td>\n",
       "      <td>0.000000</td>\n",
       "      <td>0.0</td>\n",
       "      <td>0.0</td>\n",
       "    </tr>\n",
       "  </tbody>\n",
       "</table>\n",
       "<p>5 rows × 115 columns</p>\n",
       "</div>"
      ],
      "text/plain": [
       "   MI_dir_L5_weight  MI_dir_L5_mean  MI_dir_L5_variance  MI_dir_L3_weight  \\\n",
       "0          1.000000       60.000000            0.000000          1.000000   \n",
       "1          1.000000      354.000000            0.000000          1.000000   \n",
       "2          1.857879      360.458980           35.789338          1.912127   \n",
       "3          1.000000      337.000000            0.000000          1.000000   \n",
       "4          1.680223      172.140917        18487.448750          1.793580   \n",
       "\n",
       "   MI_dir_L3_mean  MI_dir_L3_variance  MI_dir_L1_weight  MI_dir_L1_mean  \\\n",
       "0       60.000000            0.000000          1.000000       60.000000   \n",
       "1      354.000000            0.000000          1.000000      354.000000   \n",
       "2      360.275733           35.923972          1.969807      360.091968   \n",
       "3      337.000000            0.000000          1.000000      337.000000   \n",
       "4      182.560279        18928.175300          1.925828      193.165753   \n",
       "\n",
       "   MI_dir_L1_variance  MI_dir_L0.1_weight  ...  HpHp_L0.1_radius  \\\n",
       "0            0.000000            1.000000  ...          0.000000   \n",
       "1            0.000000            1.000000  ...         34.095047   \n",
       "2           35.991542            1.996939  ...        100.081513   \n",
       "3            0.000000            1.000000  ...          0.000000   \n",
       "4        19153.795810            1.992323  ...          0.000000   \n",
       "\n",
       "   HpHp_L0.1_covariance  HpHp_L0.1_pcc  HpHp_L0.01_weight  HpHp_L0.01_mean  \\\n",
       "0                   0.0            0.0           1.000000        60.000000   \n",
       "1                   0.0            0.0           5.319895       344.262695   \n",
       "2                   0.0            0.0           6.318264       347.703087   \n",
       "3                   0.0            0.0           1.000000       337.000000   \n",
       "4                   0.0            0.0           1.000000        60.000000   \n",
       "\n",
       "   HpHp_L0.01_std  HpHp_L0.01_magnitude  HpHp_L0.01_radius  \\\n",
       "0        0.000000             60.000000           0.000000   \n",
       "1        4.710446            344.262695          22.188299   \n",
       "2        9.034660            347.703087          81.625077   \n",
       "3        0.000000            337.000000           0.000000   \n",
       "4        0.000000             60.000000           0.000000   \n",
       "\n",
       "   HpHp_L0.01_covariance  HpHp_L0.01_pcc  \n",
       "0                    0.0             0.0  \n",
       "1                    0.0             0.0  \n",
       "2                    0.0             0.0  \n",
       "3                    0.0             0.0  \n",
       "4                    0.0             0.0  \n",
       "\n",
       "[5 rows x 115 columns]"
      ]
     },
     "execution_count": 9,
     "metadata": {},
     "output_type": "execute_result"
    }
   ],
   "source": [
    "concatenated_df.head()"
   ]
  },
  {
   "cell_type": "code",
   "execution_count": 10,
   "metadata": {},
   "outputs": [
    {
     "data": {
      "text/plain": [
       "(1018298, 115)"
      ]
     },
     "execution_count": 10,
     "metadata": {},
     "output_type": "execute_result"
    }
   ],
   "source": [
    "concatenated_df.shape"
   ]
  }
 ],
 "metadata": {
  "kernelspec": {
   "display_name": "tf",
   "language": "python",
   "name": "python3"
  },
  "language_info": {
   "codemirror_mode": {
    "name": "ipython",
    "version": 3
   },
   "file_extension": ".py",
   "mimetype": "text/x-python",
   "name": "python",
   "nbconvert_exporter": "python",
   "pygments_lexer": "ipython3",
   "version": "3.9.16"
  },
  "orig_nbformat": 4
 },
 "nbformat": 4,
 "nbformat_minor": 2
}
